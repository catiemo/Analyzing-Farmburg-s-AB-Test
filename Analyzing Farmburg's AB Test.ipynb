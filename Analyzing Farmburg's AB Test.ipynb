{
 "cells": [
  {
   "cell_type": "markdown",
   "id": "2699badf",
   "metadata": {},
   "source": [
    "### Importing Libraries"
   ]
  },
  {
   "cell_type": "code",
   "execution_count": 1,
   "id": "5a06db97",
   "metadata": {},
   "outputs": [],
   "source": [
    "import pandas as pd\n",
    "import numpy as np"
   ]
  },
  {
   "cell_type": "markdown",
   "id": "0e275f69",
   "metadata": {},
   "source": [
    "### Reading csv file"
   ]
  },
  {
   "cell_type": "code",
   "execution_count": 2,
   "id": "90ef8dee",
   "metadata": {},
   "outputs": [
    {
     "data": {
      "text/html": [
       "<div>\n",
       "<style scoped>\n",
       "    .dataframe tbody tr th:only-of-type {\n",
       "        vertical-align: middle;\n",
       "    }\n",
       "\n",
       "    .dataframe tbody tr th {\n",
       "        vertical-align: top;\n",
       "    }\n",
       "\n",
       "    .dataframe thead th {\n",
       "        text-align: right;\n",
       "    }\n",
       "</style>\n",
       "<table border=\"1\" class=\"dataframe\">\n",
       "  <thead>\n",
       "    <tr style=\"text-align: right;\">\n",
       "      <th></th>\n",
       "      <th>user_id</th>\n",
       "      <th>group</th>\n",
       "      <th>is_purchase</th>\n",
       "    </tr>\n",
       "  </thead>\n",
       "  <tbody>\n",
       "    <tr>\n",
       "      <th>0</th>\n",
       "      <td>8e27bf9a</td>\n",
       "      <td>A</td>\n",
       "      <td>No</td>\n",
       "    </tr>\n",
       "    <tr>\n",
       "      <th>1</th>\n",
       "      <td>eb89e6f0</td>\n",
       "      <td>A</td>\n",
       "      <td>No</td>\n",
       "    </tr>\n",
       "    <tr>\n",
       "      <th>2</th>\n",
       "      <td>7119106a</td>\n",
       "      <td>A</td>\n",
       "      <td>No</td>\n",
       "    </tr>\n",
       "    <tr>\n",
       "      <th>3</th>\n",
       "      <td>e53781ff</td>\n",
       "      <td>A</td>\n",
       "      <td>No</td>\n",
       "    </tr>\n",
       "    <tr>\n",
       "      <th>4</th>\n",
       "      <td>02d48cf1</td>\n",
       "      <td>A</td>\n",
       "      <td>Yes</td>\n",
       "    </tr>\n",
       "  </tbody>\n",
       "</table>\n",
       "</div>"
      ],
      "text/plain": [
       "    user_id group is_purchase\n",
       "0  8e27bf9a     A          No\n",
       "1  eb89e6f0     A          No\n",
       "2  7119106a     A          No\n",
       "3  e53781ff     A          No\n",
       "4  02d48cf1     A         Yes"
      ]
     },
     "execution_count": 2,
     "metadata": {},
     "output_type": "execute_result"
    }
   ],
   "source": [
    "# Read in the `clicks.csv` file as `abdata`\n",
    "abdata = pd.read_csv('clicks.csv')\n",
    "abdata.head()"
   ]
  },
  {
   "cell_type": "markdown",
   "id": "61e846ed",
   "metadata": {},
   "source": [
    "### Contingency table of the variables group and is_purchase"
   ]
  },
  {
   "cell_type": "code",
   "execution_count": 3,
   "id": "9d29e738",
   "metadata": {},
   "outputs": [
    {
     "data": {
      "text/html": [
       "<div>\n",
       "<style scoped>\n",
       "    .dataframe tbody tr th:only-of-type {\n",
       "        vertical-align: middle;\n",
       "    }\n",
       "\n",
       "    .dataframe tbody tr th {\n",
       "        vertical-align: top;\n",
       "    }\n",
       "\n",
       "    .dataframe thead th {\n",
       "        text-align: right;\n",
       "    }\n",
       "</style>\n",
       "<table border=\"1\" class=\"dataframe\">\n",
       "  <thead>\n",
       "    <tr style=\"text-align: right;\">\n",
       "      <th>is_purchase</th>\n",
       "      <th>No</th>\n",
       "      <th>Yes</th>\n",
       "    </tr>\n",
       "    <tr>\n",
       "      <th>group</th>\n",
       "      <th></th>\n",
       "      <th></th>\n",
       "    </tr>\n",
       "  </thead>\n",
       "  <tbody>\n",
       "    <tr>\n",
       "      <th>A</th>\n",
       "      <td>1350</td>\n",
       "      <td>316</td>\n",
       "    </tr>\n",
       "    <tr>\n",
       "      <th>B</th>\n",
       "      <td>1483</td>\n",
       "      <td>183</td>\n",
       "    </tr>\n",
       "    <tr>\n",
       "      <th>C</th>\n",
       "      <td>1583</td>\n",
       "      <td>83</td>\n",
       "    </tr>\n",
       "  </tbody>\n",
       "</table>\n",
       "</div>"
      ],
      "text/plain": [
       "is_purchase    No  Yes\n",
       "group                 \n",
       "A            1350  316\n",
       "B            1483  183\n",
       "C            1583   83"
      ]
     },
     "execution_count": 3,
     "metadata": {},
     "output_type": "execute_result"
    }
   ],
   "source": [
    "from scipy.stats import chi2_contingency\n",
    "Xtab = pd.crosstab(abdata.group, abdata.is_purchase)\n",
    "Xtab"
   ]
  },
  {
   "cell_type": "markdown",
   "id": "68d0189e",
   "metadata": {},
   "source": [
    "### Hypothesis to check if there is an association between group and is_purchase"
   ]
  },
  {
   "cell_type": "code",
   "execution_count": 4,
   "id": "0f81c081",
   "metadata": {},
   "outputs": [
    {
     "data": {
      "text/plain": [
       "2.4126213546684264e-35"
      ]
     },
     "execution_count": 4,
     "metadata": {},
     "output_type": "execute_result"
    }
   ],
   "source": [
    "chi2, pval, dof, expected = chi2_contingency(Xtab)\n",
    "pval"
   ]
  },
  {
   "cell_type": "markdown",
   "id": "e9d3a9ed",
   "metadata": {},
   "source": [
    "### Number of visitors this week"
   ]
  },
  {
   "cell_type": "code",
   "execution_count": 5,
   "id": "9665f19a",
   "metadata": {},
   "outputs": [
    {
     "data": {
      "text/plain": [
       "4998"
      ]
     },
     "execution_count": 5,
     "metadata": {},
     "output_type": "execute_result"
    }
   ],
   "source": [
    "num_visits = len(abdata)\n",
    "num_visits"
   ]
  },
  {
   "cell_type": "markdown",
   "id": "6fe8ffa7",
   "metadata": {},
   "source": [
    "### Number of sales needed to reach 1000 dollars for 0.99 dollars package"
   ]
  },
  {
   "cell_type": "code",
   "execution_count": 6,
   "id": "e65e2acb",
   "metadata": {},
   "outputs": [
    {
     "data": {
      "text/plain": [
       "1010.1010101010102"
      ]
     },
     "execution_count": 6,
     "metadata": {},
     "output_type": "execute_result"
    }
   ],
   "source": [
    "num_sales_needed_099 = 1000 / 0.99\n",
    "num_sales_needed_099"
   ]
  },
  {
   "cell_type": "markdown",
   "id": "8b497f81",
   "metadata": {},
   "source": [
    "### Proportion of weekly visitors who would need to make a 0.99 dollars purchase in order to meet the 1000 dollars goal"
   ]
  },
  {
   "cell_type": "code",
   "execution_count": 7,
   "id": "15ee6849",
   "metadata": {},
   "outputs": [
    {
     "data": {
      "text/plain": [
       "0.20210104243717691"
      ]
     },
     "execution_count": 7,
     "metadata": {},
     "output_type": "execute_result"
    }
   ],
   "source": [
    "p_sales_needed_099 = num_sales_needed_099 / num_visits\n",
    "p_sales_needed_099"
   ]
  },
  {
   "cell_type": "markdown",
   "id": "501f2b81",
   "metadata": {},
   "source": [
    "### Number of sales needed to reach 1000 dollars for 1.99 dollars package"
   ]
  },
  {
   "cell_type": "code",
   "execution_count": 8,
   "id": "325f7c0a",
   "metadata": {},
   "outputs": [
    {
     "data": {
      "text/plain": [
       "502.51256281407035"
      ]
     },
     "execution_count": 8,
     "metadata": {},
     "output_type": "execute_result"
    }
   ],
   "source": [
    "num_sales_needed_199 = 1000 / 1.99\n",
    "num_sales_needed_199"
   ]
  },
  {
   "cell_type": "markdown",
   "id": "3c278c45",
   "metadata": {},
   "source": [
    "### Proportion of weekly visitors who would need to make a 1.99 dollars purchase in order to meet the 1000 dollars goal"
   ]
  },
  {
   "cell_type": "code",
   "execution_count": 9,
   "id": "dedc5b83",
   "metadata": {},
   "outputs": [
    {
     "name": "stdout",
     "output_type": "stream",
     "text": [
      "0.10054272965467594\n"
     ]
    }
   ],
   "source": [
    "p_sales_needed_199 = num_sales_needed_199 / num_visits\n",
    "print(p_sales_needed_199)"
   ]
  },
  {
   "cell_type": "markdown",
   "id": "bbdc354d",
   "metadata": {},
   "source": [
    "### Number of sales needed to reach 1000 dollars for 4.99 dollars package"
   ]
  },
  {
   "cell_type": "code",
   "execution_count": 10,
   "id": "460f95eb",
   "metadata": {},
   "outputs": [
    {
     "data": {
      "text/plain": [
       "200.40080160320642"
      ]
     },
     "execution_count": 10,
     "metadata": {},
     "output_type": "execute_result"
    }
   ],
   "source": [
    "num_sales_needed_499 = 1000 / 4.99\n",
    "num_sales_needed_499"
   ]
  },
  {
   "cell_type": "markdown",
   "id": "45a5d5c5",
   "metadata": {},
   "source": [
    "### Proportion of weekly visitors who would need to make a 4.99 dollars purchase in order to meet the 1000 dollars goal"
   ]
  },
  {
   "cell_type": "code",
   "execution_count": 11,
   "id": "49c29b35",
   "metadata": {},
   "outputs": [
    {
     "data": {
      "text/plain": [
       "0.040096198800161346"
      ]
     },
     "execution_count": 11,
     "metadata": {},
     "output_type": "execute_result"
    }
   ],
   "source": [
    "p_sales_needed_499 = num_sales_needed_499 / num_visits\n",
    "p_sales_needed_499"
   ]
  },
  {
   "cell_type": "markdown",
   "id": "a41c46be",
   "metadata": {},
   "source": [
    "### The number of visitors in group A (the number of visitors who were offered the 0.99 dollars price point)"
   ]
  },
  {
   "cell_type": "code",
   "execution_count": 12,
   "id": "3b53eb74",
   "metadata": {},
   "outputs": [
    {
     "data": {
      "text/html": [
       "<div>\n",
       "<style scoped>\n",
       "    .dataframe tbody tr th:only-of-type {\n",
       "        vertical-align: middle;\n",
       "    }\n",
       "\n",
       "    .dataframe tbody tr th {\n",
       "        vertical-align: top;\n",
       "    }\n",
       "\n",
       "    .dataframe thead th {\n",
       "        text-align: right;\n",
       "    }\n",
       "</style>\n",
       "<table border=\"1\" class=\"dataframe\">\n",
       "  <thead>\n",
       "    <tr style=\"text-align: right;\">\n",
       "      <th></th>\n",
       "      <th>user_id</th>\n",
       "      <th>group</th>\n",
       "      <th>is_purchase</th>\n",
       "    </tr>\n",
       "  </thead>\n",
       "  <tbody>\n",
       "    <tr>\n",
       "      <th>0</th>\n",
       "      <td>8e27bf9a</td>\n",
       "      <td>A</td>\n",
       "      <td>No</td>\n",
       "    </tr>\n",
       "    <tr>\n",
       "      <th>1</th>\n",
       "      <td>eb89e6f0</td>\n",
       "      <td>A</td>\n",
       "      <td>No</td>\n",
       "    </tr>\n",
       "    <tr>\n",
       "      <th>2</th>\n",
       "      <td>7119106a</td>\n",
       "      <td>A</td>\n",
       "      <td>No</td>\n",
       "    </tr>\n",
       "    <tr>\n",
       "      <th>3</th>\n",
       "      <td>e53781ff</td>\n",
       "      <td>A</td>\n",
       "      <td>No</td>\n",
       "    </tr>\n",
       "    <tr>\n",
       "      <th>4</th>\n",
       "      <td>02d48cf1</td>\n",
       "      <td>A</td>\n",
       "      <td>Yes</td>\n",
       "    </tr>\n",
       "  </tbody>\n",
       "</table>\n",
       "</div>"
      ],
      "text/plain": [
       "    user_id group is_purchase\n",
       "0  8e27bf9a     A          No\n",
       "1  eb89e6f0     A          No\n",
       "2  7119106a     A          No\n",
       "3  e53781ff     A          No\n",
       "4  02d48cf1     A         Yes"
      ]
     },
     "execution_count": 12,
     "metadata": {},
     "output_type": "execute_result"
    }
   ],
   "source": [
    "group_A = abdata[abdata.group == 'A']\n",
    "group_A.head()"
   ]
  },
  {
   "cell_type": "code",
   "execution_count": 13,
   "id": "84fdc4ce",
   "metadata": {},
   "outputs": [
    {
     "data": {
      "text/plain": [
       "1666"
      ]
     },
     "execution_count": 13,
     "metadata": {},
     "output_type": "execute_result"
    }
   ],
   "source": [
    "samp_size_099 = len(abdata[abdata.group == 'A'])\n",
    "samp_size_099"
   ]
  },
  {
   "cell_type": "markdown",
   "id": "507a255c",
   "metadata": {},
   "source": [
    "### The number of visitors in Group A who made a purchase"
   ]
  },
  {
   "cell_type": "code",
   "execution_count": 14,
   "id": "b36bd939",
   "metadata": {},
   "outputs": [
    {
     "data": {
      "text/plain": [
       "316"
      ]
     },
     "execution_count": 14,
     "metadata": {},
     "output_type": "execute_result"
    }
   ],
   "source": [
    "sales_099 = len(group_A[group_A.is_purchase == 'Yes'])\n",
    "sales_099"
   ]
  },
  {
   "cell_type": "markdown",
   "id": "e07a8ad7",
   "metadata": {},
   "source": [
    "### The number of visitors in group B (the number of visitors who were offered the 1.99 dollars price point)"
   ]
  },
  {
   "cell_type": "code",
   "execution_count": 24,
   "id": "24671194",
   "metadata": {},
   "outputs": [
    {
     "data": {
      "text/html": [
       "<div>\n",
       "<style scoped>\n",
       "    .dataframe tbody tr th:only-of-type {\n",
       "        vertical-align: middle;\n",
       "    }\n",
       "\n",
       "    .dataframe tbody tr th {\n",
       "        vertical-align: top;\n",
       "    }\n",
       "\n",
       "    .dataframe thead th {\n",
       "        text-align: right;\n",
       "    }\n",
       "</style>\n",
       "<table border=\"1\" class=\"dataframe\">\n",
       "  <thead>\n",
       "    <tr style=\"text-align: right;\">\n",
       "      <th></th>\n",
       "      <th>user_id</th>\n",
       "      <th>group</th>\n",
       "      <th>is_purchase</th>\n",
       "    </tr>\n",
       "  </thead>\n",
       "  <tbody>\n",
       "    <tr>\n",
       "      <th>1666</th>\n",
       "      <td>0b4e148d</td>\n",
       "      <td>B</td>\n",
       "      <td>Yes</td>\n",
       "    </tr>\n",
       "    <tr>\n",
       "      <th>1667</th>\n",
       "      <td>8b140cc2</td>\n",
       "      <td>B</td>\n",
       "      <td>No</td>\n",
       "    </tr>\n",
       "    <tr>\n",
       "      <th>1668</th>\n",
       "      <td>b3cef3bd</td>\n",
       "      <td>B</td>\n",
       "      <td>No</td>\n",
       "    </tr>\n",
       "    <tr>\n",
       "      <th>1669</th>\n",
       "      <td>574818c1</td>\n",
       "      <td>B</td>\n",
       "      <td>No</td>\n",
       "    </tr>\n",
       "    <tr>\n",
       "      <th>1670</th>\n",
       "      <td>3670df7f</td>\n",
       "      <td>B</td>\n",
       "      <td>No</td>\n",
       "    </tr>\n",
       "  </tbody>\n",
       "</table>\n",
       "</div>"
      ],
      "text/plain": [
       "       user_id group is_purchase\n",
       "1666  0b4e148d     B         Yes\n",
       "1667  8b140cc2     B          No\n",
       "1668  b3cef3bd     B          No\n",
       "1669  574818c1     B          No\n",
       "1670  3670df7f     B          No"
      ]
     },
     "execution_count": 24,
     "metadata": {},
     "output_type": "execute_result"
    }
   ],
   "source": [
    "group_B = abdata[abdata.group == 'B']\n",
    "group_B.head()"
   ]
  },
  {
   "cell_type": "code",
   "execution_count": 15,
   "id": "c6ba3729",
   "metadata": {},
   "outputs": [
    {
     "name": "stdout",
     "output_type": "stream",
     "text": [
      "1666\n"
     ]
    }
   ],
   "source": [
    "samp_size_199 = len(abdata[abdata.group == 'B'])\n",
    "samp_size_199"
   ]
  },
  {
   "cell_type": "markdown",
   "id": "30665ee5",
   "metadata": {},
   "source": [
    "### The number of visitors in Group B who made a purchase"
   ]
  },
  {
   "cell_type": "code",
   "execution_count": 25,
   "id": "d95ad158",
   "metadata": {},
   "outputs": [
    {
     "data": {
      "text/plain": [
       "183"
      ]
     },
     "execution_count": 25,
     "metadata": {},
     "output_type": "execute_result"
    }
   ],
   "source": [
    "sales_199 = len(group_B[group_B.is_purchase == 'Yes'])\n",
    "sales_199"
   ]
  },
  {
   "cell_type": "markdown",
   "id": "aeeabb67",
   "metadata": {},
   "source": [
    "### The number of visitors in group C (the number of visitors who were offered the 4.99 dollars price point)"
   ]
  },
  {
   "cell_type": "code",
   "execution_count": 27,
   "id": "60a2f1df",
   "metadata": {},
   "outputs": [
    {
     "data": {
      "text/html": [
       "<div>\n",
       "<style scoped>\n",
       "    .dataframe tbody tr th:only-of-type {\n",
       "        vertical-align: middle;\n",
       "    }\n",
       "\n",
       "    .dataframe tbody tr th {\n",
       "        vertical-align: top;\n",
       "    }\n",
       "\n",
       "    .dataframe thead th {\n",
       "        text-align: right;\n",
       "    }\n",
       "</style>\n",
       "<table border=\"1\" class=\"dataframe\">\n",
       "  <thead>\n",
       "    <tr style=\"text-align: right;\">\n",
       "      <th></th>\n",
       "      <th>user_id</th>\n",
       "      <th>group</th>\n",
       "      <th>is_purchase</th>\n",
       "    </tr>\n",
       "  </thead>\n",
       "  <tbody>\n",
       "    <tr>\n",
       "      <th>3332</th>\n",
       "      <td>4fe51f85</td>\n",
       "      <td>C</td>\n",
       "      <td>No</td>\n",
       "    </tr>\n",
       "    <tr>\n",
       "      <th>3333</th>\n",
       "      <td>a71229f5</td>\n",
       "      <td>C</td>\n",
       "      <td>No</td>\n",
       "    </tr>\n",
       "    <tr>\n",
       "      <th>3334</th>\n",
       "      <td>5dae97f0</td>\n",
       "      <td>C</td>\n",
       "      <td>No</td>\n",
       "    </tr>\n",
       "    <tr>\n",
       "      <th>3335</th>\n",
       "      <td>71c06aee</td>\n",
       "      <td>C</td>\n",
       "      <td>No</td>\n",
       "    </tr>\n",
       "    <tr>\n",
       "      <th>3336</th>\n",
       "      <td>158355c8</td>\n",
       "      <td>C</td>\n",
       "      <td>No</td>\n",
       "    </tr>\n",
       "  </tbody>\n",
       "</table>\n",
       "</div>"
      ],
      "text/plain": [
       "       user_id group is_purchase\n",
       "3332  4fe51f85     C          No\n",
       "3333  a71229f5     C          No\n",
       "3334  5dae97f0     C          No\n",
       "3335  71c06aee     C          No\n",
       "3336  158355c8     C          No"
      ]
     },
     "execution_count": 27,
     "metadata": {},
     "output_type": "execute_result"
    }
   ],
   "source": [
    "group_C = abdata[abdata.group == 'C']\n",
    "group_C.head()"
   ]
  },
  {
   "cell_type": "code",
   "execution_count": 26,
   "id": "99741078",
   "metadata": {},
   "outputs": [
    {
     "data": {
      "text/plain": [
       "1666"
      ]
     },
     "execution_count": 26,
     "metadata": {},
     "output_type": "execute_result"
    }
   ],
   "source": [
    "samp_size_499 = len(abdata[abdata.group == 'C'])\n",
    "samp_size_499"
   ]
  },
  {
   "cell_type": "markdown",
   "id": "e0d8b860",
   "metadata": {},
   "source": [
    "### The number of visitors in Group C who made a purchase"
   ]
  },
  {
   "cell_type": "code",
   "execution_count": 20,
   "id": "951fc22b",
   "metadata": {},
   "outputs": [
    {
     "name": "stdout",
     "output_type": "stream",
     "text": [
      "83\n"
     ]
    }
   ],
   "source": [
    "sales_499 = len(group_C[group_C.is_purchase == 'Yes'])\n",
    "sales_499"
   ]
  },
  {
   "cell_type": "markdown",
   "id": "a7bb2b2c",
   "metadata": {},
   "source": [
    "### Hypothesis to check if the percent of Group A (the 0.99 dollars price point) that purchased an upgrade package is significantly greater than p_sales_needed_099 (the percent of visitors who need to buy an upgrade package at 0.99 dollars in order to make our minimum revenue target of 1,000 dollars)"
   ]
  },
  {
   "cell_type": "code",
   "execution_count": 21,
   "id": "6745cdd8",
   "metadata": {},
   "outputs": [
    {
     "name": "stdout",
     "output_type": "stream",
     "text": [
      "0.9028081076188985\n"
     ]
    }
   ],
   "source": [
    "from scipy.stats import binom_test\n",
    "pvalueA = binom_test(sales_099, samp_size_099, p_sales_needed_099, alternative = 'greater')\n",
    "pvalueA"
   ]
  },
  {
   "cell_type": "markdown",
   "id": "62dbb7cf",
   "metadata": {},
   "source": [
    "### Hypothesis to check if the percent of Group B (the 1.99 dollars price point) that purchased an upgrade package is significantly greater than p_sales_needed_199 (the percent of visitors who need to buy an upgrade package at 1.99 dollars in order to make our minimum revenue target of 1,000 dollars)"
   ]
  },
  {
   "cell_type": "code",
   "execution_count": 22,
   "id": "d7c7de25",
   "metadata": {},
   "outputs": [
    {
     "name": "stdout",
     "output_type": "stream",
     "text": [
      "0.11184562623739903\n"
     ]
    }
   ],
   "source": [
    "pvalueB = binom_test(sales_199, samp_size_199, p_sales_needed_199, alternative = 'greater')\n",
    "pvalueB"
   ]
  },
  {
   "cell_type": "markdown",
   "id": "b41c1f41",
   "metadata": {},
   "source": [
    "### Hypothesis to check if the percent of Group C (the 4.99 dollars price point) that purchased an upgrade package is significantly greater than p_sales_needed_499 (the percent of visitors who need to buy an upgrade package at 4.99 dollars in order to make our minimum revenue target of 1,000 dollars)"
   ]
  },
  {
   "cell_type": "code",
   "execution_count": 28,
   "id": "e10b73d5",
   "metadata": {},
   "outputs": [
    {
     "data": {
      "text/plain": [
       "0.027944826659907135"
      ]
     },
     "execution_count": 28,
     "metadata": {},
     "output_type": "execute_result"
    }
   ],
   "source": [
    "pvalueC = binom_test(sales_499, samp_size_499, p_sales_needed_499, alternative = 'greater')\n",
    "pvalueC"
   ]
  },
  {
   "cell_type": "code",
   "execution_count": null,
   "id": "8d8af42f",
   "metadata": {},
   "outputs": [],
   "source": []
  }
 ],
 "metadata": {
  "kernelspec": {
   "display_name": "Python 3",
   "language": "python",
   "name": "python3"
  },
  "language_info": {
   "codemirror_mode": {
    "name": "ipython",
    "version": 3
   },
   "file_extension": ".py",
   "mimetype": "text/x-python",
   "name": "python",
   "nbconvert_exporter": "python",
   "pygments_lexer": "ipython3",
   "version": "3.8.8"
  }
 },
 "nbformat": 4,
 "nbformat_minor": 5
}
